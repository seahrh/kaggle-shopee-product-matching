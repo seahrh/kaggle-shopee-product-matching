{
 "cells": [
  {
   "cell_type": "code",
   "execution_count": 11,
   "id": "c47f2f7e",
   "metadata": {},
   "outputs": [],
   "source": [
    "import numpy as np\n",
    "import pandas as pd\n",
    "import py\n",
    "import mylib\n",
    "import cv2\n",
    "import pytesseract"
   ]
  },
  {
   "cell_type": "code",
   "execution_count": 12,
   "id": "f63c34ec",
   "metadata": {},
   "outputs": [],
   "source": [
    "pd.set_option(\"use_inf_as_na\", True)\n",
    "pd.set_option(\"display.max_columns\", 9999)\n",
    "pd.set_option(\"display.max_rows\", 9999)\n",
    "pd.set_option('max_colwidth', 1000)"
   ]
  },
  {
   "cell_type": "code",
   "execution_count": 13,
   "id": "fd64e572",
   "metadata": {},
   "outputs": [
    {
     "name": "stdout",
     "output_type": "stream",
     "text": [
      "<class 'pandas.core.frame.DataFrame'>\n",
      "RangeIndex: 34250 entries, 0 to 34249\n",
      "Data columns (total 7 columns):\n",
      " #   Column       Non-Null Count  Dtype \n",
      "---  ------       --------------  ----- \n",
      " 0   posting_id   34250 non-null  object\n",
      " 1   image        34250 non-null  object\n",
      " 2   image_phash  34250 non-null  object\n",
      " 3   title        34250 non-null  object\n",
      " 4   label_group  34250 non-null  int64 \n",
      " 5   target       34250 non-null  object\n",
      " 6   image_path   34250 non-null  object\n",
      "dtypes: int64(1), object(6)\n",
      "memory usage: 1.8+ MB\n"
     ]
    }
   ],
   "source": [
    "train = pd.read_csv(\"input/train.csv\", engine=\"c\", low_memory=False)\n",
    "train[\"target\"] = mylib.target_label(train)\n",
    "train[\"image_path\"] = \"input/train_images/\" + train[\"image\"]\n",
    "train.info()"
   ]
  },
  {
   "cell_type": "markdown",
   "id": "c07f4909",
   "metadata": {},
   "source": [
    "th=.25, f1=.586\n",
    "th=.30, f1=.586\n",
    "th=.35, f1=.587\n",
    "th=.40, f1=.583"
   ]
  },
  {
   "cell_type": "code",
   "execution_count": 14,
   "id": "356175a8",
   "metadata": {},
   "outputs": [
    {
     "name": "stdout",
     "output_type": "stream",
     "text": [
      "CPU times: user 27.8 s, sys: 14.9 s, total: 42.7 s\n",
      "Wall time: 42.7 s\n"
     ]
    }
   ],
   "source": [
    "%%time\n",
    "train[\"phash_matches\"] = mylib.phash_matches(train, threshold=0.3)"
   ]
  },
  {
   "cell_type": "code",
   "execution_count": 15,
   "id": "57e5e12a",
   "metadata": {},
   "outputs": [
    {
     "name": "stdout",
     "output_type": "stream",
     "text": [
      "CPU times: user 29.7 s, sys: 141 ms, total: 29.8 s\n",
      "Wall time: 29.8 s\n"
     ]
    }
   ],
   "source": [
    "%%time\n",
    "train[\"title_p\"] = train.apply(mylib.preprocess(\"title\"), axis=1)"
   ]
  },
  {
   "cell_type": "code",
   "execution_count": 16,
   "id": "7b741bcf",
   "metadata": {},
   "outputs": [],
   "source": [
    "posting_ids = train[\"posting_id\"].tolist()"
   ]
  },
  {
   "cell_type": "code",
   "execution_count": 17,
   "id": "db16228e",
   "metadata": {},
   "outputs": [
    {
     "name": "stdout",
     "output_type": "stream",
     "text": [
      "CPU times: user 22min 45s, sys: 1min 12s, total: 23min 57s\n",
      "Wall time: 4min 48s\n"
     ]
    }
   ],
   "source": [
    "%%time\n",
    "st_name = \"stsb-distilbert-base\"\n",
    "#st_name = \"paraphrase-distilroberta-base-v1\"\n",
    "#st_name = \"paraphrase-xlm-r-multilingual-v1\"\n",
    "train[\"title_matches\"] = mylib.sbert_matches(\n",
    "    model_path=f\"pretrained/sentence-transformers/{st_name}\",\n",
    "    sentences=train[\"title_p\"].tolist(),\n",
    "    posting_ids=posting_ids,\n",
    "    threshold=0.5\n",
    ")"
   ]
  },
  {
   "cell_type": "code",
   "execution_count": 18,
   "id": "be017000",
   "metadata": {},
   "outputs": [],
   "source": [
    "def image_to_text(row) -> str:\n",
    "    res = \"\"\n",
    "    img = cv2.imread(row[\"image_path\"])\n",
    "    img = cv2.cvtColor(img, cv2.COLOR_BGR2GRAY)\n",
    "    res = pytesseract.image_to_string(img, timeout=10)\n",
    "    res = \" \".join(res.split())\n",
    "    return res"
   ]
  },
  {
   "cell_type": "code",
   "execution_count": null,
   "id": "65be95f1",
   "metadata": {},
   "outputs": [],
   "source": [
    "%%time\n",
    "train[\"itext\"] = train.apply(image_to_text, axis=1)"
   ]
  },
  {
   "cell_type": "code",
   "execution_count": null,
   "id": "baed52c8",
   "metadata": {},
   "outputs": [],
   "source": [
    "%%time\n",
    "train[\"itext_p\"] = train.apply(mylib.preprocess(\"itext\"), axis=1)"
   ]
  },
  {
   "cell_type": "code",
   "execution_count": null,
   "id": "489ba74d",
   "metadata": {},
   "outputs": [],
   "source": [
    "st_name = \"stsb-distilbert-base\"\n",
    "#st_name = \"paraphrase-distilroberta-base-v1\"\n",
    "#st_name = \"paraphrase-xlm-r-multilingual-v1\"\n",
    "train[\"itext_matches\"] = mylib.sbert_matches(\n",
    "    model_path=f\"pretrained/sentence-transformers/{st_name}\",\n",
    "    sentences=train[\"itext_p\"].tolist(),\n",
    "    posting_ids=posting_ids,\n",
    "    threshold=0.5\n",
    ")"
   ]
  },
  {
   "cell_type": "code",
   "execution_count": null,
   "id": "e2b834c5",
   "metadata": {},
   "outputs": [],
   "source": [
    "fs = [\"phash_matches\", \"title_matches\", \"itext_matches\"]\n",
    "train[\"matches\"] = train.apply(mylib.combine_as_list(fs), axis=1)\n",
    "train[\"f1\"] = train.apply(mylib.metric_per_row(\"matches\"), axis=1)\n",
    "print(f\"Combined score={train.f1.mean():.3f}\")"
   ]
  },
  {
   "cell_type": "code",
   "execution_count": null,
   "id": "99fc8f07",
   "metadata": {},
   "outputs": [],
   "source": [
    "cols = [\"f1\", \"target\", \"matches\"] + fs\n",
    "train[cols].head(30)"
   ]
  },
  {
   "cell_type": "code",
   "execution_count": null,
   "id": "a2b51767",
   "metadata": {},
   "outputs": [],
   "source": [
    "train.sort_values(\"f1\", ascending=True, inplace=True, ignore_index=True)\n",
    "train[cols].head()"
   ]
  },
  {
   "cell_type": "code",
   "execution_count": null,
   "id": "6e62c873",
   "metadata": {},
   "outputs": [],
   "source": []
  }
 ],
 "metadata": {
  "kernelspec": {
   "display_name": "Python 3",
   "language": "python",
   "name": "python3"
  },
  "language_info": {
   "codemirror_mode": {
    "name": "ipython",
    "version": 3
   },
   "file_extension": ".py",
   "mimetype": "text/x-python",
   "name": "python",
   "nbconvert_exporter": "python",
   "pygments_lexer": "ipython3",
   "version": "3.7.5"
  }
 },
 "nbformat": 4,
 "nbformat_minor": 5
}
