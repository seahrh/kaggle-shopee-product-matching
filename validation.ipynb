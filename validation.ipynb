{
 "cells": [
  {
   "cell_type": "code",
   "execution_count": 15,
   "id": "c47f2f7e",
   "metadata": {},
   "outputs": [],
   "source": [
    "import numpy as np\n",
    "import pandas as pd\n",
    "import py\n",
    "import mylib\n",
    "import cv2 as cv\n",
    "import pytesseract\n",
    "from tqdm import tqdm\n",
    "from typing import Optional"
   ]
  },
  {
   "cell_type": "code",
   "execution_count": 2,
   "id": "f63c34ec",
   "metadata": {},
   "outputs": [],
   "source": [
    "pd.set_option(\"use_inf_as_na\", True)\n",
    "pd.set_option(\"display.max_columns\", 9999)\n",
    "pd.set_option(\"display.max_rows\", 9999)\n",
    "pd.set_option('max_colwidth', 1000)"
   ]
  },
  {
   "cell_type": "code",
   "execution_count": 3,
   "id": "fd64e572",
   "metadata": {},
   "outputs": [
    {
     "name": "stdout",
     "output_type": "stream",
     "text": [
      "<class 'pandas.core.frame.DataFrame'>\n",
      "RangeIndex: 34250 entries, 0 to 34249\n",
      "Data columns (total 7 columns):\n",
      " #   Column       Non-Null Count  Dtype \n",
      "---  ------       --------------  ----- \n",
      " 0   posting_id   34250 non-null  object\n",
      " 1   image        34250 non-null  object\n",
      " 2   image_phash  34250 non-null  object\n",
      " 3   title        34250 non-null  object\n",
      " 4   label_group  34250 non-null  int64 \n",
      " 5   target       34250 non-null  object\n",
      " 6   image_path   34250 non-null  object\n",
      "dtypes: int64(1), object(6)\n",
      "memory usage: 1.8+ MB\n"
     ]
    }
   ],
   "source": [
    "train = pd.read_csv(\"input/train.csv\", engine=\"c\", low_memory=False)\n",
    "train[\"target\"] = mylib.target_label(train)\n",
    "train[\"image_path\"] = \"input/train_images/\" + train[\"image\"]\n",
    "train.info()"
   ]
  },
  {
   "cell_type": "markdown",
   "id": "c07f4909",
   "metadata": {},
   "source": [
    "th=.25, f1=.586\n",
    "th=.30, f1=.586\n",
    "th=.35, f1=.587\n",
    "th=.40, f1=.583"
   ]
  },
  {
   "cell_type": "code",
   "execution_count": 4,
   "id": "356175a8",
   "metadata": {},
   "outputs": [
    {
     "name": "stdout",
     "output_type": "stream",
     "text": [
      "CPU times: user 27.9 s, sys: 14.1 s, total: 42 s\n",
      "Wall time: 42.1 s\n"
     ]
    }
   ],
   "source": [
    "%%time\n",
    "train[\"phash_matches\"] = mylib.phash_matches(train, threshold=0.3)"
   ]
  },
  {
   "cell_type": "code",
   "execution_count": 5,
   "id": "57e5e12a",
   "metadata": {},
   "outputs": [
    {
     "name": "stdout",
     "output_type": "stream",
     "text": [
      "CPU times: user 30 s, sys: 93.8 ms, total: 30.1 s\n",
      "Wall time: 30.2 s\n"
     ]
    }
   ],
   "source": [
    "%%time\n",
    "train[\"title_p\"] = train.apply(mylib.preprocess(\"title\"), axis=1)"
   ]
  },
  {
   "cell_type": "code",
   "execution_count": 6,
   "id": "7b741bcf",
   "metadata": {},
   "outputs": [],
   "source": [
    "posting_ids = train[\"posting_id\"].tolist()"
   ]
  },
  {
   "cell_type": "code",
   "execution_count": 7,
   "id": "db16228e",
   "metadata": {},
   "outputs": [
    {
     "name": "stdout",
     "output_type": "stream",
     "text": [
      "CPU times: user 22min 17s, sys: 1min 10s, total: 23min 28s\n",
      "Wall time: 4min 37s\n"
     ]
    }
   ],
   "source": [
    "%%time\n",
    "st_name = \"stsb-distilbert-base\"\n",
    "#st_name = \"paraphrase-distilroberta-base-v1\"\n",
    "#st_name = \"paraphrase-xlm-r-multilingual-v1\"\n",
    "train[\"title_matches\"] = mylib.sbert_matches(\n",
    "    model_path=f\"pretrained/sentence-transformers/{st_name}\",\n",
    "    sentences=train[\"title_p\"].tolist(),\n",
    "    posting_ids=posting_ids,\n",
    "    threshold=0.5\n",
    ")"
   ]
  },
  {
   "cell_type": "code",
   "execution_count": 27,
   "id": "be017000",
   "metadata": {},
   "outputs": [],
   "source": [
    "def dilate_erode(img):\n",
    "    kernel = np.ones((2, 2), np.uint8)\n",
    "    img = cv.dilate(img, kernel, iterations=1)\n",
    "    img = cv.erode(img, kernel, iterations=1)\n",
    "    return img\n",
    "\n",
    "\n",
    "def image_to_text(img_path) -> Optional[str]:\n",
    "    img = cv.imread(img_path, cv.IMREAD_GRAYSCALE)\n",
    "    img = cv.resize(img, None, fx=0.5, fy=0.5, interpolation=cv.INTER_AREA)\n",
    "    img = cv.medianBlur(img, 3)\n",
    "    by = cv.adaptiveThreshold(img, 255, cv.ADAPTIVE_THRESH_GAUSSIAN_C, cv.THRESH_BINARY, 41, 2)\n",
    "    iv = cv.adaptiveThreshold(img, 255, cv.ADAPTIVE_THRESH_GAUSSIAN_C, cv.THRESH_BINARY_INV, 41, 2)\n",
    "    by = dilate_erode(by)\n",
    "    iv = dilate_erode(iv)\n",
    "    try:\n",
    "        s1 = pytesseract.image_to_string(by, timeout=0.4, config=r\"--psm 11\")\n",
    "    except RuntimeError as timeout_error:\n",
    "        s1 = None\n",
    "    try:\n",
    "        s2 = pytesseract.image_to_string(iv, timeout=0.4, config=r\"--psm 11\")\n",
    "    except RuntimeError as timeout_error:\n",
    "        s2 = None\n",
    "    if s1 is None and s2 is None:\n",
    "        return None\n",
    "    tokens = []\n",
    "    if s1 is not None:\n",
    "        tokens += s1.split()\n",
    "    if s2 is not None:\n",
    "        tokens += s2.split()\n",
    "    return \" \".join(tokens)"
   ]
  },
  {
   "cell_type": "code",
   "execution_count": null,
   "id": "65be95f1",
   "metadata": {},
   "outputs": [
    {
     "name": "stderr",
     "output_type": "stream",
     "text": [
      "202it [02:16,  1.56it/s]"
     ]
    }
   ],
   "source": [
    "res = []\n",
    "n_timeout = 0\n",
    "for t in tqdm(train.itertuples()):\n",
    "    img_path = getattr(t, \"image_path\")\n",
    "    s = image_to_text(img_path)\n",
    "    if s is None:\n",
    "        s = \"\"\n",
    "        n_timeout += 1\n",
    "    res.append(s)\n",
    "print(f\"n_timeout={n_timeout}\")"
   ]
  },
  {
   "cell_type": "code",
   "execution_count": null,
   "id": "57d6e9ad",
   "metadata": {},
   "outputs": [],
   "source": [
    "train[\"itext\"] = res\n",
    "train[\"text\"] = train[\"title\"] + \" \" + train[\"itext\"]\n",
    "cols = [\"text\", \"itext\", \"title\"]\n",
    "train[cols].head()"
   ]
  },
  {
   "cell_type": "code",
   "execution_count": null,
   "id": "baed52c8",
   "metadata": {},
   "outputs": [],
   "source": [
    "%%time\n",
    "train[\"text_p\"] = train.apply(mylib.preprocess(\"text\"), axis=1)"
   ]
  },
  {
   "cell_type": "code",
   "execution_count": null,
   "id": "489ba74d",
   "metadata": {},
   "outputs": [],
   "source": [
    "st_name = \"stsb-distilbert-base\"\n",
    "#st_name = \"paraphrase-distilroberta-base-v1\"\n",
    "#st_name = \"paraphrase-xlm-r-multilingual-v1\"\n",
    "train[\"text_matches\"] = mylib.sbert_matches(\n",
    "    model_path=f\"pretrained/sentence-transformers/{st_name}\",\n",
    "    sentences=train[\"text_p\"].tolist(),\n",
    "    posting_ids=posting_ids,\n",
    "    threshold=0.5\n",
    ")"
   ]
  },
  {
   "cell_type": "code",
   "execution_count": null,
   "id": "e2b834c5",
   "metadata": {},
   "outputs": [],
   "source": [
    "fs = [\"phash_matches\", \"title_matches\", \"text_matches\"]\n",
    "train[\"matches\"] = train.apply(mylib.combine_as_list(fs), axis=1)\n",
    "train[\"f1\"] = train.apply(mylib.metric_per_row(\"matches\"), axis=1)\n",
    "print(f\"Combined score={train.f1.mean():.3f}\")"
   ]
  },
  {
   "cell_type": "code",
   "execution_count": null,
   "id": "99fc8f07",
   "metadata": {},
   "outputs": [],
   "source": [
    "cols = [\"f1\", \"target\", \"matches\"] + fs\n",
    "train[cols].head(30)"
   ]
  },
  {
   "cell_type": "code",
   "execution_count": null,
   "id": "a2b51767",
   "metadata": {},
   "outputs": [],
   "source": [
    "train.sort_values(\"f1\", ascending=True, inplace=True, ignore_index=True)\n",
    "train[cols].head()"
   ]
  },
  {
   "cell_type": "code",
   "execution_count": null,
   "id": "6e62c873",
   "metadata": {},
   "outputs": [],
   "source": []
  }
 ],
 "metadata": {
  "kernelspec": {
   "display_name": "Python 3",
   "language": "python",
   "name": "python3"
  },
  "language_info": {
   "codemirror_mode": {
    "name": "ipython",
    "version": 3
   },
   "file_extension": ".py",
   "mimetype": "text/x-python",
   "name": "python",
   "nbconvert_exporter": "python",
   "pygments_lexer": "ipython3",
   "version": "3.7.5"
  }
 },
 "nbformat": 4,
 "nbformat_minor": 5
}
