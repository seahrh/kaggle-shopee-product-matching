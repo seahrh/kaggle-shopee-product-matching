{
 "cells": [
  {
   "cell_type": "code",
   "execution_count": 1,
   "id": "f62990b8",
   "metadata": {},
   "outputs": [],
   "source": [
    "import numpy as np\n",
    "import pandas as pd"
   ]
  },
  {
   "cell_type": "code",
   "execution_count": 2,
   "id": "c79a6548",
   "metadata": {},
   "outputs": [],
   "source": [
    "pd.set_option(\"use_inf_as_na\", True)\n",
    "pd.set_option(\"display.max_columns\", 9999)\n",
    "pd.set_option(\"display.max_rows\", 9999)\n",
    "pd.set_option('max_colwidth', 9999)"
   ]
  },
  {
   "cell_type": "code",
   "execution_count": 7,
   "id": "70b1ba4e",
   "metadata": {},
   "outputs": [
    {
     "name": "stdout",
     "output_type": "stream",
     "text": [
      "<class 'pandas.core.frame.DataFrame'>\n",
      "RangeIndex: 30000 entries, 0 to 29999\n",
      "Data columns (total 5 columns):\n",
      " #   Column      Non-Null Count  Dtype \n",
      "---  ------      --------------  ----- \n",
      " 0   Unnamed: 0  30000 non-null  int64 \n",
      " 1   title       30000 non-null  object\n",
      " 2   brand       30000 non-null  object\n",
      " 3   present     30000 non-null  bool  \n",
      " 4   root_cat    30000 non-null  int64 \n",
      "dtypes: bool(1), int64(2), object(2)\n",
      "memory usage: 966.9+ KB\n"
     ]
    }
   ],
   "source": [
    "df = pd.read_csv(\"input/brands_raw.csv\", engine=\"c\", low_memory=False)\n",
    "df.info()"
   ]
  },
  {
   "cell_type": "code",
   "execution_count": 8,
   "id": "f23e86f8",
   "metadata": {},
   "outputs": [
    {
     "data": {
      "text/html": [
       "<div>\n",
       "<style scoped>\n",
       "    .dataframe tbody tr th:only-of-type {\n",
       "        vertical-align: middle;\n",
       "    }\n",
       "\n",
       "    .dataframe tbody tr th {\n",
       "        vertical-align: top;\n",
       "    }\n",
       "\n",
       "    .dataframe thead th {\n",
       "        text-align: right;\n",
       "    }\n",
       "</style>\n",
       "<table border=\"1\" class=\"dataframe\">\n",
       "  <thead>\n",
       "    <tr style=\"text-align: right;\">\n",
       "      <th></th>\n",
       "      <th>Unnamed: 0</th>\n",
       "      <th>title</th>\n",
       "      <th>brand</th>\n",
       "      <th>present</th>\n",
       "      <th>root_cat</th>\n",
       "    </tr>\n",
       "  </thead>\n",
       "  <tbody>\n",
       "    <tr>\n",
       "      <th>0</th>\n",
       "      <td>0</td>\n",
       "      <td>Galt Shape Puzzle Emergency Vehicles Baby/Toddler/Child Jigsaw Shapes BNIB</td>\n",
       "      <td>Galt</td>\n",
       "      <td>True</td>\n",
       "      <td>2984</td>\n",
       "    </tr>\n",
       "    <tr>\n",
       "      <th>1</th>\n",
       "      <td>1</td>\n",
       "      <td>BRIO Magnetic Building Wooden Blocks Toddler Activity Toy Ages 1+ NEW</td>\n",
       "      <td>Brio</td>\n",
       "      <td>True</td>\n",
       "      <td>2984</td>\n",
       "    </tr>\n",
       "    <tr>\n",
       "      <th>2</th>\n",
       "      <td>2</td>\n",
       "      <td>NEW GRAFIX 6PCS METALLIC FABRIC PAINT PEN MARKER T SHIRT CLOTHES ART 6 COLOUR</td>\n",
       "      <td>GRAFIX</td>\n",
       "      <td>True</td>\n",
       "      <td>550</td>\n",
       "    </tr>\n",
       "    <tr>\n",
       "      <th>3</th>\n",
       "      <td>3</td>\n",
       "      <td>NEW GRAFIX 6PCS METALLIC FABRIC PAINT PEN MARKER T SHIRT CLOTHES ART 6 COLOUR</td>\n",
       "      <td>GRAFIX</td>\n",
       "      <td>True</td>\n",
       "      <td>550</td>\n",
       "    </tr>\n",
       "    <tr>\n",
       "      <th>4</th>\n",
       "      <td>4</td>\n",
       "      <td>Coca Cola Coke Beach Girl Large 24 x 36 Wall Poster New - Laminated Available</td>\n",
       "      <td>Coca Cola</td>\n",
       "      <td>True</td>\n",
       "      <td>550</td>\n",
       "    </tr>\n",
       "  </tbody>\n",
       "</table>\n",
       "</div>"
      ],
      "text/plain": [
       "   Unnamed: 0  \\\n",
       "0           0   \n",
       "1           1   \n",
       "2           2   \n",
       "3           3   \n",
       "4           4   \n",
       "\n",
       "                                                                           title  \\\n",
       "0     Galt Shape Puzzle Emergency Vehicles Baby/Toddler/Child Jigsaw Shapes BNIB   \n",
       "1          BRIO Magnetic Building Wooden Blocks Toddler Activity Toy Ages 1+ NEW   \n",
       "2  NEW GRAFIX 6PCS METALLIC FABRIC PAINT PEN MARKER T SHIRT CLOTHES ART 6 COLOUR   \n",
       "3  NEW GRAFIX 6PCS METALLIC FABRIC PAINT PEN MARKER T SHIRT CLOTHES ART 6 COLOUR   \n",
       "4  Coca Cola Coke Beach Girl Large 24 x 36 Wall Poster New - Laminated Available   \n",
       "\n",
       "       brand  present  root_cat  \n",
       "0       Galt     True      2984  \n",
       "1       Brio     True      2984  \n",
       "2     GRAFIX     True       550  \n",
       "3     GRAFIX     True       550  \n",
       "4  Coca Cola     True       550  "
      ]
     },
     "execution_count": 8,
     "metadata": {},
     "output_type": "execute_result"
    }
   ],
   "source": [
    "df.head()"
   ]
  },
  {
   "cell_type": "code",
   "execution_count": 10,
   "id": "83b8a743",
   "metadata": {},
   "outputs": [
    {
     "name": "stdout",
     "output_type": "stream",
     "text": [
      "brands=['03g131513j', '12-14', '2xu', '3c9807394 3c9807393', '3com', '3d younique', '3m', '3m scotchlite', '4head', '5 star', '55 soul', '65889300,65977400', '81 customs', '81stgeneration', 'a to z', 'a.vogel', 'abahna', 'abdulla', 'abercrombie & fitch', 'able2', 'aboutblu', 'abovenet mainframe communications', 'abru', 'absima', 'absolute', 'absorbine', 'ac milan', 'academy', 'acana', 'acce star', 'accessorize', 'acco', 'accu-chek', 'accuphase', 'accurist', 'ace', 'acer', 'acesa', 'acme', 'acne', 'acoms', 'acoustic solutions', 'acriflex', 'activision', 'activon', 'acuity', 'adaptec', 'adaptil', 'adastra', 'addi', 'addict', 'addis', 'adesso', 'adidas', 'adin', 'adio', 'admiral', 'adobe', 'advent', 'adventure time', 'aeg', 'aeropiccola', 'affinage', 'aflofarm', 'african pride', 'africas best', 'afro babyz', 'agent provocateur', 'agfa', 'agralan', 'agrivite', 'ahs', 'aidapt', 'aigner', 'ailsa', 'aip', 'air hogs', 'airborne', 'aires', 'airfix', 'airhead', 'airsafe', 'airsoft', 'ak interactive', 'akai', 'akkura', 'akuna', 'al bach', 'alakazam', 'alan rorrison', 'alan wong', 'alba', 'albany', 'albino dragon', 'albion alloys', 'alcatel', 'alesis', 'alex', 'alexander dobell', 'alexander mcqueen']\n"
     ]
    }
   ],
   "source": [
    "brands = df[\"brand\"].tolist()\n",
    "for i in range(len(brands)):\n",
    "    brands[i] = brands[i].strip().lower()\n",
    "brands = list(set(brands))\n",
    "brands.sort()\n",
    "print(f\"brands={brands[:100]}\")"
   ]
  },
  {
   "cell_type": "code",
   "execution_count": 11,
   "id": "088f9e51",
   "metadata": {},
   "outputs": [
    {
     "name": "stdout",
     "output_type": "stream",
     "text": [
      "<class 'pandas.core.frame.DataFrame'>\n",
      "RangeIndex: 4341 entries, 0 to 4340\n",
      "Data columns (total 1 columns):\n",
      " #   Column  Non-Null Count  Dtype \n",
      "---  ------  --------------  ----- \n",
      " 0   brand   4341 non-null   object\n",
      "dtypes: object(1)\n",
      "memory usage: 34.0+ KB\n"
     ]
    }
   ],
   "source": [
    "out_df = pd.DataFrame({\"brand\": brands})\n",
    "out_df.info()"
   ]
  },
  {
   "cell_type": "code",
   "execution_count": 13,
   "id": "fcb64c0e",
   "metadata": {},
   "outputs": [],
   "source": [
    "out_df.to_csv(\"output/brands.tsv\", index=False, sep=\"\\t\")"
   ]
  },
  {
   "cell_type": "code",
   "execution_count": null,
   "id": "4a2aaa4e",
   "metadata": {},
   "outputs": [],
   "source": []
  }
 ],
 "metadata": {
  "kernelspec": {
   "display_name": "Python 3",
   "language": "python",
   "name": "python3"
  },
  "language_info": {
   "codemirror_mode": {
    "name": "ipython",
    "version": 3
   },
   "file_extension": ".py",
   "mimetype": "text/x-python",
   "name": "python",
   "nbconvert_exporter": "python",
   "pygments_lexer": "ipython3",
   "version": "3.7.5"
  }
 },
 "nbformat": 4,
 "nbformat_minor": 5
}
