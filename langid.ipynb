{
 "cells": [
  {
   "cell_type": "code",
   "execution_count": 104,
   "id": "0de9f7fd",
   "metadata": {},
   "outputs": [],
   "source": [
    "import numpy as np\n",
    "import pandas as pd\n",
    "from langid.langid import LanguageIdentifier, model\n",
    "from typing import List\n",
    "import mylib"
   ]
  },
  {
   "cell_type": "code",
   "execution_count": 118,
   "id": "0705d1bd",
   "metadata": {},
   "outputs": [],
   "source": [
    "pd.set_option(\"use_inf_as_na\", True)\n",
    "pd.set_option(\"display.max_columns\", 9999)\n",
    "pd.set_option(\"display.max_rows\", 9999)\n",
    "pd.set_option('max_colwidth', 400)"
   ]
  },
  {
   "cell_type": "code",
   "execution_count": 106,
   "id": "6fbc68f8",
   "metadata": {},
   "outputs": [],
   "source": [
    "ld = LanguageIdentifier.from_modelstring(model, norm_probs=True)"
   ]
  },
  {
   "cell_type": "code",
   "execution_count": 107,
   "id": "b8e9a371",
   "metadata": {},
   "outputs": [],
   "source": [
    "def detect_lang(row) -> str:\n",
    "    t = ld.classify(row[\"title\"])\n",
    "    return f\"{t[0]} {t[1]}\""
   ]
  },
  {
   "cell_type": "code",
   "execution_count": 108,
   "id": "2ba05605",
   "metadata": {},
   "outputs": [
    {
     "name": "stdout",
     "output_type": "stream",
     "text": [
      "<class 'pandas.core.frame.DataFrame'>\n",
      "RangeIndex: 34250 entries, 0 to 34249\n",
      "Data columns (total 7 columns):\n",
      " #   Column       Non-Null Count  Dtype  \n",
      "---  ------       --------------  -----  \n",
      " 0   posting_id   34250 non-null  object \n",
      " 1   image        34250 non-null  object \n",
      " 2   image_phash  34250 non-null  object \n",
      " 3   title        34250 non-null  object \n",
      " 4   label_group  34250 non-null  int64  \n",
      " 5   lang         34250 non-null  object \n",
      " 6   lang_prob    34250 non-null  float32\n",
      "dtypes: float32(1), int64(1), object(5)\n",
      "memory usage: 1.7+ MB\n",
      "CPU times: user 2min 1s, sys: 1min 1s, total: 3min 3s\n",
      "Wall time: 32.8 s\n"
     ]
    }
   ],
   "source": [
    "%%time\n",
    "train = pd.read_csv(\"input/train.csv\", engine=\"c\", low_memory=False)\n",
    "train[\"lang\"] = train.apply(detect_lang, axis=1)\n",
    "train[[\"lang\", \"lang_prob\"]] = train[\"lang\"].str.split(expand=True)\n",
    "train[\"lang_prob\"] = train[\"lang_prob\"].astype(np.float32)\n",
    "train.info()"
   ]
  },
  {
   "cell_type": "code",
   "execution_count": 109,
   "id": "47eb46e0",
   "metadata": {},
   "outputs": [
    {
     "data": {
      "text/html": [
       "<div>\n",
       "<style scoped>\n",
       "    .dataframe tbody tr th:only-of-type {\n",
       "        vertical-align: middle;\n",
       "    }\n",
       "\n",
       "    .dataframe tbody tr th {\n",
       "        vertical-align: top;\n",
       "    }\n",
       "\n",
       "    .dataframe thead th {\n",
       "        text-align: right;\n",
       "    }\n",
       "</style>\n",
       "<table border=\"1\" class=\"dataframe\">\n",
       "  <thead>\n",
       "    <tr style=\"text-align: right;\">\n",
       "      <th></th>\n",
       "      <th>lang</th>\n",
       "      <th>lang_prob</th>\n",
       "      <th>title</th>\n",
       "    </tr>\n",
       "  </thead>\n",
       "  <tbody>\n",
       "    <tr>\n",
       "      <th>0</th>\n",
       "      <td>en</td>\n",
       "      <td>0.263607</td>\n",
       "      <td>Paper Bag Victoria Secret</td>\n",
       "    </tr>\n",
       "    <tr>\n",
       "      <th>1</th>\n",
       "      <td>mt</td>\n",
       "      <td>0.286158</td>\n",
       "      <td>Double Tape 3M VHB 12 mm x 4,5 m ORIGINAL / DO...</td>\n",
       "    </tr>\n",
       "    <tr>\n",
       "      <th>2</th>\n",
       "      <td>en</td>\n",
       "      <td>0.924006</td>\n",
       "      <td>Maling TTS Canned Pork Luncheon Meat 397 gr</td>\n",
       "    </tr>\n",
       "    <tr>\n",
       "      <th>3</th>\n",
       "      <td>id</td>\n",
       "      <td>0.999651</td>\n",
       "      <td>Daster Batik Lengan pendek - Motif Acak / Camp...</td>\n",
       "    </tr>\n",
       "    <tr>\n",
       "      <th>4</th>\n",
       "      <td>fr</td>\n",
       "      <td>0.925362</td>\n",
       "      <td>Nescafe \\xc3\\x89clair Latte 220ml</td>\n",
       "    </tr>\n",
       "  </tbody>\n",
       "</table>\n",
       "</div>"
      ],
      "text/plain": [
       "  lang  lang_prob                                              title\n",
       "0   en   0.263607                          Paper Bag Victoria Secret\n",
       "1   mt   0.286158  Double Tape 3M VHB 12 mm x 4,5 m ORIGINAL / DO...\n",
       "2   en   0.924006        Maling TTS Canned Pork Luncheon Meat 397 gr\n",
       "3   id   0.999651  Daster Batik Lengan pendek - Motif Acak / Camp...\n",
       "4   fr   0.925362                  Nescafe \\xc3\\x89clair Latte 220ml"
      ]
     },
     "execution_count": 109,
     "metadata": {},
     "output_type": "execute_result"
    }
   ],
   "source": [
    "cols = [\"lang\", \"lang_prob\", \"title\"]\n",
    "train[cols].head()"
   ]
  },
  {
   "cell_type": "code",
   "execution_count": 110,
   "id": "e5a14e01",
   "metadata": {},
   "outputs": [],
   "source": [
    "nen = train[train[\"lang\"] != \"en\"]\n",
    "nen = nen.sort_values([\"lang_prob\"], ascending=False)"
   ]
  },
  {
   "cell_type": "code",
   "execution_count": 119,
   "id": "e16918f6",
   "metadata": {},
   "outputs": [
    {
     "data": {
      "text/html": [
       "<div>\n",
       "<style scoped>\n",
       "    .dataframe tbody tr th:only-of-type {\n",
       "        vertical-align: middle;\n",
       "    }\n",
       "\n",
       "    .dataframe tbody tr th {\n",
       "        vertical-align: top;\n",
       "    }\n",
       "\n",
       "    .dataframe thead th {\n",
       "        text-align: right;\n",
       "    }\n",
       "</style>\n",
       "<table border=\"1\" class=\"dataframe\">\n",
       "  <thead>\n",
       "    <tr style=\"text-align: right;\">\n",
       "      <th></th>\n",
       "      <th>lang</th>\n",
       "      <th>lang_prob</th>\n",
       "      <th>title</th>\n",
       "    </tr>\n",
       "  </thead>\n",
       "  <tbody>\n",
       "    <tr>\n",
       "      <th>25139</th>\n",
       "      <td>ms</td>\n",
       "      <td>1.0</td>\n",
       "      <td>[ROUND] Taplak meja BULAT [152] /taplak meja alas penutup cover meja anti air anti panas anti sobek</td>\n",
       "    </tr>\n",
       "    <tr>\n",
       "      <th>33971</th>\n",
       "      <td>it</td>\n",
       "      <td>1.0</td>\n",
       "      <td>Keju Mozarella Perfetto  KEMASAN ASLI 250gr Higienis / Mozzarella Cheese Perfetto</td>\n",
       "    </tr>\n",
       "    <tr>\n",
       "      <th>20253</th>\n",
       "      <td>de</td>\n",
       "      <td>1.0</td>\n",
       "      <td>Little Palmerhaus - Mittens &amp; Booties - Sarung Tangan &amp; Kaki Bayi</td>\n",
       "    </tr>\n",
       "    <tr>\n",
       "      <th>26496</th>\n",
       "      <td>sv</td>\n",
       "      <td>1.0</td>\n",
       "      <td>Lampu Led  Basic Hannochs 3w/5 Watt 7w/7Watt 9w/9Watt 11w/11 Watt 14w/14 Watt 17w /17Watt Bolam</td>\n",
       "    </tr>\n",
       "    <tr>\n",
       "      <th>23955</th>\n",
       "      <td>it</td>\n",
       "      <td>1.0</td>\n",
       "      <td>Keju Mozarella Perfetto 250gr / Keju Leleh / Keju Lumer / Keju Pizza</td>\n",
       "    </tr>\n",
       "  </tbody>\n",
       "</table>\n",
       "</div>"
      ],
      "text/plain": [
       "      lang  lang_prob  \\\n",
       "25139   ms        1.0   \n",
       "33971   it        1.0   \n",
       "20253   de        1.0   \n",
       "26496   sv        1.0   \n",
       "23955   it        1.0   \n",
       "\n",
       "                                                                                                     title  \n",
       "25139  [ROUND] Taplak meja BULAT [152] /taplak meja alas penutup cover meja anti air anti panas anti sobek  \n",
       "33971                    Keju Mozarella Perfetto  KEMASAN ASLI 250gr Higienis / Mozzarella Cheese Perfetto  \n",
       "20253                                    Little Palmerhaus - Mittens & Booties - Sarung Tangan & Kaki Bayi  \n",
       "26496      Lampu Led  Basic Hannochs 3w/5 Watt 7w/7Watt 9w/9Watt 11w/11 Watt 14w/14 Watt 17w /17Watt Bolam  \n",
       "23955                                 Keju Mozarella Perfetto 250gr / Keju Leleh / Keju Lumer / Keju Pizza  "
      ]
     },
     "execution_count": 119,
     "metadata": {},
     "output_type": "execute_result"
    }
   ],
   "source": [
    "nen[cols].head()"
   ]
  },
  {
   "cell_type": "code",
   "execution_count": 112,
   "id": "39b65389",
   "metadata": {},
   "outputs": [
    {
     "data": {
      "text/plain": [
       "('tl', 0.9979885430902933)"
      ]
     },
     "execution_count": 112,
     "metadata": {},
     "output_type": "execute_result"
    }
   ],
   "source": [
    "ld.classify(\"Tempelan kulkas magnet angka, tempelan angka magnet\")"
   ]
  },
  {
   "cell_type": "code",
   "execution_count": 113,
   "id": "e22809e2",
   "metadata": {},
   "outputs": [
    {
     "data": {
      "text/plain": [
       "('ms', 0.6127106422219508)"
      ]
     },
     "execution_count": 113,
     "metadata": {},
     "output_type": "execute_result"
    }
   ],
   "source": [
    "ld.classify(\"Tempelan kulkas\")"
   ]
  },
  {
   "cell_type": "code",
   "execution_count": 114,
   "id": "00058f66",
   "metadata": {},
   "outputs": [
    {
     "data": {
      "text/plain": [
       "('es', 0.40662769962234463)"
      ]
     },
     "execution_count": 114,
     "metadata": {},
     "output_type": "execute_result"
    }
   ],
   "source": [
    "ld.classify(\"PASHMINA KUSUT RAWIS POLOS CRINKLE SHAWL MURAH BANGET\")"
   ]
  },
  {
   "cell_type": "code",
   "execution_count": 115,
   "id": "4fbc59e0",
   "metadata": {},
   "outputs": [
    {
     "data": {
      "text/plain": [
       "('id', 0.3904426069276855)"
      ]
     },
     "execution_count": 115,
     "metadata": {},
     "output_type": "execute_result"
    }
   ],
   "source": [
    "ld.classify(\"Kangaroo Teflon / Allu Fry Pan 18 cm - KG652\")"
   ]
  },
  {
   "cell_type": "code",
   "execution_count": 116,
   "id": "cfdd4df1",
   "metadata": {},
   "outputs": [
    {
     "data": {
      "text/plain": [
       "('en', 0.994568885141504)"
      ]
     },
     "execution_count": 116,
     "metadata": {},
     "output_type": "execute_result"
    }
   ],
   "source": [
    "ld.classify(\"CHOCO BALL LAGIE COKLAT Lagie Grosir Cokelat Lagie Murah Chocoball Kiloan Chocobal Coklat Kiloan 1Kg\")"
   ]
  },
  {
   "cell_type": "code",
   "execution_count": 117,
   "id": "52a97567",
   "metadata": {},
   "outputs": [
    {
     "data": {
      "text/plain": [
       "('fr', 0.24941384800986108)"
      ]
     },
     "execution_count": 117,
     "metadata": {},
     "output_type": "execute_result"
    }
   ],
   "source": [
    "ld.classify(\"Grosir\")  # wholesaler"
   ]
  },
  {
   "cell_type": "code",
   "execution_count": null,
   "id": "8b47f5e6",
   "metadata": {},
   "outputs": [],
   "source": []
  }
 ],
 "metadata": {
  "kernelspec": {
   "display_name": "Python 3",
   "language": "python",
   "name": "python3"
  },
  "language_info": {
   "codemirror_mode": {
    "name": "ipython",
    "version": 3
   },
   "file_extension": ".py",
   "mimetype": "text/x-python",
   "name": "python",
   "nbconvert_exporter": "python",
   "pygments_lexer": "ipython3",
   "version": "3.7.5"
  }
 },
 "nbformat": 4,
 "nbformat_minor": 5
}
